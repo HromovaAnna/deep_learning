{
 "cells": [
  {
   "cell_type": "code",
   "execution_count": 1,
   "metadata": {},
   "outputs": [],
   "source": [
    "import matplotlib.pyplot as plt\n",
    "import numpy as np\n",
    "\n",
    "from sklearn.datasets import load_digits\n",
    "\n",
    "digits = load_digits()"
   ]
  },
  {
   "cell_type": "code",
   "execution_count": null,
   "metadata": {},
   "outputs": [],
   "source": []
  },
  {
   "cell_type": "code",
   "execution_count": null,
   "metadata": {},
   "outputs": [],
   "source": []
  },
  {
   "cell_type": "code",
   "execution_count": 2,
   "metadata": {},
   "outputs": [
    {
     "data": {
      "text/plain": [
       "(1797, 8, 8)"
      ]
     },
     "execution_count": 2,
     "metadata": {},
     "output_type": "execute_result"
    }
   ],
   "source": [
    "digits.images.shape"
   ]
  },
  {
   "cell_type": "code",
   "execution_count": 3,
   "metadata": {},
   "outputs": [
    {
     "data": {
      "text/plain": [
       "(1797, 64)"
      ]
     },
     "execution_count": 3,
     "metadata": {},
     "output_type": "execute_result"
    }
   ],
   "source": [
    "digits.data.shape"
   ]
  },
  {
   "cell_type": "code",
   "execution_count": 4,
   "metadata": {},
   "outputs": [
    {
     "data": {
      "text/plain": [
       "(1797,)"
      ]
     },
     "execution_count": 4,
     "metadata": {},
     "output_type": "execute_result"
    }
   ],
   "source": [
    "digits.target.shape"
   ]
  },
  {
   "cell_type": "code",
   "execution_count": 5,
   "metadata": {},
   "outputs": [
    {
     "data": {
      "image/png": "[encoded data removed]",
      "text/plain": [
       "<Figure size 600x600 with 9 Axes>"
      ]
     },
     "metadata": {},
     "output_type": "display_data"
    }
   ],
   "source": [
    "# Selecting 9 random indices\n",
    "random_indices = np.random.choice(len(digits.images), 9, replace=False)\n",
    "\n",
    "# Creating a 3x3 grid plot\n",
    "fig, axes = plt.subplots(3, 3, figsize=(6, 6))\n",
    "\n",
    "for i, ax in enumerate(axes.flat):\n",
    "    ax.imshow(digits.images[random_indices[i]], cmap=plt.cm.gray_r, interpolation='nearest')\n",
    "    ax.set_title(f\"Label: {digits.target[random_indices[i]]}\")\n",
    "\n",
    "    # Removing axis labels\n",
    "    ax.set_xticks([])\n",
    "    ax.set_yticks([])\n",
    "\n",
    "plt.show()"
   ]
  },
  {
   "cell_type": "code",
   "execution_count": 6,
   "metadata": {},
   "outputs": [
    {
     "data": {
      "image/png": "[encoded data removed]",
      "text/plain": [
       "<Figure size 600x600 with 9 Axes>"
      ]
     },
     "metadata": {},
     "output_type": "display_data"
    }
   ],
   "source": [
    "# Selecting 9 random indices of images labelled as 9\n",
    "random_indices = np.random.choice(np.where(digits.target == 9)[0], 9, replace=False)\n",
    "\n",
    "# Creating a 3x3 grid plot\n",
    "fig, axes = plt.subplots(3, 3, figsize=(6, 6))\n",
    "\n",
    "for i, ax in enumerate(axes.flat):\n",
    "    ax.imshow(digits.images[random_indices[i]], cmap=plt.cm.gray_r, interpolation='nearest')\n",
    "    ax.set_title(f\"Label: {digits.target[random_indices[i]]}\")\n",
    "\n",
    "    # Removing axis labels\n",
    "    ax.set_xticks([])\n",
    "    ax.set_yticks([])\n",
    "    \n",
    "plt.show()"
   ]
  },
  {
   "cell_type": "code",
   "execution_count": 8,
   "metadata": {},
   "outputs": [],
   "source": [
    "from sklearn.model_selection import train_test_split\n",
    "\n",
    "\n",
    "X_train, X_test, y_train, y_test = train_test_split(\n",
    "    digits.data, \n",
    "    digits.target,\n",
    "    test_size=0.2, # 20% of the data is used for testing\n",
    "    random_state=42 # Providing a value here means getting the same \"random\" split every time\n",
    ")"
   ]
  },
  {
   "cell_type": "code",
   "execution_count": 9,
   "metadata": {},
   "outputs": [
    {
     "name": "stdout",
     "output_type": "stream",
     "text": [
      "X_train shape: (1437, 64)\n",
      "y_train shape: (1437,)\n",
      "X_test shape: (360, 64)\n",
      "y_test shape: (360,)\n"
     ]
    }
   ],
   "source": [
    "print(f'X_train shape: {X_train.shape}')\n",
    "print(f'y_train shape: {y_train.shape}')\n",
    "print(f'X_test shape: {X_test.shape}')\n",
    "print(f'y_test shape: {y_test.shape}')"
   ]
  },
  {
   "cell_type": "code",
   "execution_count": 10,
   "metadata": {},
   "outputs": [
    {
     "name": "stdout",
     "output_type": "stream",
     "text": [
      "Before one-hot encoding: 6\n",
      "After one-hot encoding: [0. 0. 0. 0. 0. 0. 1. 0. 0. 0.]\n"
     ]
    }
   ],
   "source": [
    "from tensorflow.keras.utils import to_categorical\n",
    "\n",
    "print(f'Before one-hot encoding: {y_train[0]}')\n",
    "y_train = to_categorical(y_train, num_classes=10)\n",
    "y_test = to_categorical(y_test, num_classes=10)\n",
    "print(f'After one-hot encoding: {y_train[0]}')"
   ]
  },
  {
   "cell_type": "code",
   "execution_count": 11,
   "metadata": {},
   "outputs": [
    {
     "name": "stdout",
     "output_type": "stream",
     "text": [
      "Model: \"sequential\"\n",
      "_________________________________________________________________\n",
      " Layer (type)                Output Shape              Param #   \n",
      "=================================================================\n",
      " dense (Dense)               (None, 64)                4160      \n",
      "                                                                 \n",
      " dense_1 (Dense)             (None, 64)                4160      \n",
      "                                                                 \n",
      " dense_2 (Dense)             (None, 10)                650       \n",
      "                                                                 \n",
      "=================================================================\n",
      "Total params: 8,970\n",
      "Trainable params: 8,970\n",
      "Non-trainable params: 0\n",
      "_________________________________________________________________\n"
     ]
    }
   ],
   "source": [
    "from tensorflow.keras.models import Sequential\n",
    "from tensorflow.keras.layers import Dense\n",
    "\n",
    "model = Sequential()\n",
    "\n",
    "# Input layer\n",
    "model.add(Dense(64, activation='relu', input_shape=(64,))) # 64 neurons, ReLU activation, input shape of 64\n",
    "\n",
    "# Hidden layer\n",
    "model.add(Dense(64, activation='relu')) # 64 neurons, ReLU activation\n",
    "\n",
    "# Output layer\n",
    "model.add(Dense(10, activation='softmax')) # 10 neurons, softmax activation\n",
    "\n",
    "model.summary()"
   ]
  },
  {
   "cell_type": "code",
   "execution_count": 12,
   "metadata": {},
   "outputs": [],
   "source": [
    "model.compile(\n",
    "    loss='categorical_crossentropy', # Loss function\n",
    "    optimizer='sgd', # Optimizer\n",
    "    metrics=['accuracy'] # Metrics to evaluate the model\n",
    ")"
   ]
  },
  {
   "cell_type": "code",
   "execution_count": 14,
   "metadata": {},
   "outputs": [
    {
     "name": "stdout",
     "output_type": "stream",
     "text": [
      "Epoch 1/5\n",
      "36/36 [==============================] - 1s 11ms/step - loss: 1.5281 - accuracy: 0.5936 - val_loss: 0.5921 - val_accuracy: 0.8403\n",
      "Epoch 2/5\n",
      "36/36 [==============================] - 0s 3ms/step - loss: 0.4263 - accuracy: 0.8677 - val_loss: 0.4069 - val_accuracy: 0.8750\n",
      "Epoch 3/5\n",
      "36/36 [==============================] - 0s 2ms/step - loss: 0.2660 - accuracy: 0.9260 - val_loss: 0.3125 - val_accuracy: 0.8854\n",
      "Epoch 4/5\n",
      "36/36 [==============================] - 0s 2ms/step - loss: 0.1975 - accuracy: 0.9434 - val_loss: 0.3110 - val_accuracy: 0.9167\n",
      "Epoch 5/5\n",
      "36/36 [==============================] - 0s 2ms/step - loss: 0.1646 - accuracy: 0.9530 - val_loss: 0.2573 - val_accuracy: 0.9236\n"
     ]
    },
    {
     "data": {
      "text/plain": [
       "<keras.callbacks.History at 0x1b4e5a23880>"
      ]
     },
     "execution_count": 14,
     "metadata": {},
     "output_type": "execute_result"
    }
   ],
   "source": [
    "model.fit(\n",
    "    X_train, # Training data\n",
    "    y_train, # Training labels\n",
    "    epochs=5, # Number of epochs\n",
    "    batch_size=32, # Number of samples per batch\n",
    "    validation_split=0.2 # Use 20% of the data for validation\n",
    ")"
   ]
  },
  {
   "cell_type": "code",
   "execution_count": 15,
   "metadata": {},
   "outputs": [
    {
     "name": "stdout",
     "output_type": "stream",
     "text": [
      "12/12 [==============================] - 0s 3ms/step - loss: 0.2061 - accuracy: 0.9306\n",
      "Loss:     0.21\n",
      "Accuracy: 93.06%\n"
     ]
    }
   ],
   "source": [
    "loss, accuracy = model.evaluate(X_test, y_test)\n",
    "\n",
    "print(f'Loss:     {loss:.2f}')\n",
    "print(f'Accuracy: {accuracy*100:.2f}%')"
   ]
  },
  {
   "cell_type": "code",
   "execution_count": 16,
   "metadata": {},
   "outputs": [
    {
     "name": "stdout",
     "output_type": "stream",
     "text": [
      "12/12 [==============================] - 0s 1ms/step\n"
     ]
    },
    {
     "data": {
      "image/png": "[encoded data removed]",
      "text/plain": [
       "<Figure size 600x600 with 9 Axes>"
      ]
     },
     "metadata": {},
     "output_type": "display_data"
    }
   ],
   "source": [
    "# Get the predictions for the test data\n",
    "predictions = model.predict(X_test)\n",
    "\n",
    "# Get the index of the largest probability (i.e. the predicted class)\n",
    "predicted_classes = np.argmax(predictions, axis=1)\n",
    "true_classes = np.argmax(y_test, axis=1)\n",
    "misclassified_indices = np.where(predicted_classes != true_classes)[0]\n",
    "\n",
    "# Get the misclassified samples themselves\n",
    "misclassified_samples = X_test[misclassified_indices]\n",
    "misclassified_labels = np.argmax(y_test[misclassified_indices], axis=1)\n",
    "\n",
    "# Pick 9 random misclassified samples\n",
    "random_indices = np.random.choice(len(misclassified_indices), 9, replace=False)\n",
    "\n",
    "fig, axes = plt.subplots(3, 3, figsize=(6, 6))\n",
    "for i, ax in enumerate(axes.flat):\n",
    "    ax.imshow(misclassified_samples[random_indices[i]].reshape(8, 8), cmap=plt.cm.gray_r, interpolation='nearest')\n",
    "    ax.set_title(f\"Pred: {predicted_classes[misclassified_indices[random_indices[i]]]}, Real: {misclassified_labels[random_indices[i]]}\")\n",
    "\n",
    "    # Removing axis labels\n",
    "    ax.set_xticks([])\n",
    "    ax.set_yticks([])\n",
    "    \n",
    "plt.show()"
   ]
  },
  {
   "cell_type": "code",
   "execution_count": 18,
   "metadata": {},
   "outputs": [
    {
     "name": "stdout",
     "output_type": "stream",
     "text": [
      "12/12 [==============================] - 0s 1ms/step - loss: 0.2061 - accuracy: 0.9306\n",
      "Loss:     0.21\n",
      "Accuracy: 93.06%\n"
     ]
    }
   ],
   "source": [
    "# Evaluate the model on test data\n",
    "loss, accuracy = model.evaluate(X_test, y_test)\n",
    "print(f'Loss:     {loss:.2f}')\n",
    "print(f'Accuracy: {accuracy*100:.2f}%')"
   ]
  },
  {
   "cell_type": "code",
   "execution_count": 19,
   "metadata": {},
   "outputs": [
    {
     "name": "stdout",
     "output_type": "stream",
     "text": [
      "12/12 [==============================] - 0s 15ms/step\n"
     ]
    },
    {
     "data": {
      "image/png": "[encoded data removed]",
      "text/plain": [
       "<Figure size 600x600 with 9 Axes>"
      ]
     },
     "metadata": {},
     "output_type": "display_data"
    }
   ],
   "source": [
    "import numpy as np\n",
    "import matplotlib.pyplot as plt\n",
    "\n",
    "# Get predictions for the test data\n",
    "predictions = model.predict(X_test)\n",
    "\n",
    "# Get the index of the largest probability (i.e., predicted class)\n",
    "predicted_classes = np.argmax(predictions, axis=1)\n",
    "\n",
    "# True labels\n",
    "true_classes = np.argmax(y_test, axis=1)\n",
    "\n",
    "# Indices of misclassified examples\n",
    "misclassified_indices = np.where(predicted_classes != true_classes)[0]\n",
    "\n",
    "# Get the misclassified samples and their true labels\n",
    "misclassified_samples = X_test[misclassified_indices]\n",
    "misclassified_labels = true_classes[misclassified_indices]\n",
    "\n",
    "# Pick 9 random misclassified samples\n",
    "random_indices = np.random.choice(len(misclassified_indices), 9, replace=False)\n",
    "\n",
    "# Visualize the misclassified examples\n",
    "fig, axes = plt.subplots(3, 3, figsize=(6, 6))\n",
    "for i, ax in enumerate(axes.flat):\n",
    "    ax.imshow(misclassified_samples[random_indices[i]].reshape(8, 8), \n",
    "              cmap=plt.cm.gray_r, interpolation='nearest')\n",
    "    ax.set_title(f\"Pred: {predicted_classes[misclassified_indices[random_indices[i]]]}, \"\n",
    "                 f\"Real: {misclassified_labels[random_indices[i]]}\")\n",
    "\n",
    "    # Remove axis labels\n",
    "    ax.set_xticks([])\n",
    "    ax.set_yticks([])\n",
    "\n",
    "plt.tight_layout()\n",
    "plt.show()"
   ]
  },
  {
   "cell_type": "code",
   "execution_count": 20,
   "metadata": {},
   "outputs": [],
   "source": [
    "from tensorflow.keras.optimizers import SGD\n",
    "\n",
    "# Compile the model with the default SGD optimizer\n",
    "model.compile(\n",
    "    loss='categorical_crossentropy',\n",
    "    optimizer=SGD(),\n",
    "    metrics=['accuracy']\n",
    ")"
   ]
  },
  {
   "cell_type": "code",
   "execution_count": 21,
   "metadata": {},
   "outputs": [
    {
     "name": "stdout",
     "output_type": "stream",
     "text": [
      "Epoch 1/5\n",
      "36/36 [==============================] - 1s 10ms/step - loss: 0.1308 - accuracy: 0.9678 - val_loss: 0.2513 - val_accuracy: 0.9271\n",
      "Epoch 2/5\n",
      "36/36 [==============================] - 0s 3ms/step - loss: 0.1170 - accuracy: 0.9669 - val_loss: 0.2243 - val_accuracy: 0.9236\n",
      "Epoch 3/5\n",
      "36/36 [==============================] - 0s 3ms/step - loss: 0.0996 - accuracy: 0.9756 - val_loss: 0.2333 - val_accuracy: 0.9167\n",
      "Epoch 4/5\n",
      "36/36 [==============================] - 0s 3ms/step - loss: 0.0910 - accuracy: 0.9791 - val_loss: 0.1988 - val_accuracy: 0.9306\n",
      "Epoch 5/5\n",
      "36/36 [==============================] - 0s 3ms/step - loss: 0.0886 - accuracy: 0.9748 - val_loss: 0.2139 - val_accuracy: 0.9236\n"
     ]
    }
   ],
   "source": [
    "# Compile the model with a decreased learning rate (by a factor of 10)\n",
    "model.compile(\n",
    "    loss='categorical_crossentropy',\n",
    "    optimizer=SGD(learning_rate=0.01),  # Default is 0.1, so we reduce by a factor of 10\n",
    "    metrics=['accuracy']\n",
    ")\n",
    "\n",
    "# Train the model (you can use the same training code from earlier)\n",
    "history_sgd_low_lr = model.fit(X_train, y_train, epochs=5, batch_size=32, validation_split=0.2)"
   ]
  },
  {
   "cell_type": "code",
   "execution_count": 23,
   "metadata": {},
   "outputs": [
    {
     "name": "stdout",
     "output_type": "stream",
     "text": [
      "Epoch 1/5\n",
      "36/36 [==============================] - 1s 9ms/step - loss: 0.0595 - accuracy: 0.9904 - val_loss: 0.1884 - val_accuracy: 0.9410\n",
      "Epoch 2/5\n",
      "36/36 [==============================] - 0s 2ms/step - loss: 0.0591 - accuracy: 0.9913 - val_loss: 0.1876 - val_accuracy: 0.9375\n",
      "Epoch 3/5\n",
      "36/36 [==============================] - 0s 2ms/step - loss: 0.0585 - accuracy: 0.9904 - val_loss: 0.1871 - val_accuracy: 0.9375\n",
      "Epoch 4/5\n",
      "36/36 [==============================] - 0s 2ms/step - loss: 0.0580 - accuracy: 0.9896 - val_loss: 0.1859 - val_accuracy: 0.9410\n",
      "Epoch 5/5\n",
      "36/36 [==============================] - 0s 2ms/step - loss: 0.0573 - accuracy: 0.9904 - val_loss: 0.1853 - val_accuracy: 0.9444\n"
     ]
    }
   ],
   "source": [
    "# Compile the model with a decreased learning rate (by a factor of 100)\n",
    "model.compile(\n",
    "    loss='categorical_crossentropy',\n",
    "    optimizer=SGD(learning_rate=0.001),  # Reduce learning rate by a factor of 100\n",
    "    metrics=['accuracy']\n",
    ")\n",
    "\n",
    "# Train the model\n",
    "history_sgd_low_lr_100 = model.fit(X_train, y_train, epochs=5, batch_size=32, validation_split=0.2)"
   ]
  },
  {
   "cell_type": "code",
   "execution_count": 24,
   "metadata": {},
   "outputs": [
    {
     "name": "stdout",
     "output_type": "stream",
     "text": [
      "Epoch 1/5\n",
      "36/36 [==============================] - 1s 9ms/step - loss: 472463.2500 - accuracy: 0.1140 - val_loss: 2.3139 - val_accuracy: 0.0833\n",
      "Epoch 2/5\n",
      "36/36 [==============================] - 0s 3ms/step - loss: 2.3152 - accuracy: 0.0923 - val_loss: 2.3081 - val_accuracy: 0.0833\n",
      "Epoch 3/5\n",
      "36/36 [==============================] - 0s 2ms/step - loss: 2.3120 - accuracy: 0.0957 - val_loss: 2.3071 - val_accuracy: 0.1007\n",
      "Epoch 4/5\n",
      "36/36 [==============================] - 0s 2ms/step - loss: 2.3122 - accuracy: 0.1053 - val_loss: 2.3022 - val_accuracy: 0.1215\n",
      "Epoch 5/5\n",
      "36/36 [==============================] - 0s 2ms/step - loss: 2.3091 - accuracy: 0.1036 - val_loss: 2.3147 - val_accuracy: 0.0868\n"
     ]
    }
   ],
   "source": [
    "# Compile the model with an increased learning rate\n",
    "model.compile(\n",
    "    loss='categorical_crossentropy',\n",
    "    optimizer=SGD(learning_rate=1.0),  # Increase the learning rate significantly\n",
    "    metrics=['accuracy']\n",
    ")\n",
    "\n",
    "# Train the model\n",
    "history_sgd_high_lr = model.fit(X_train, y_train, epochs=5, batch_size=32, validation_split=0.2)"
   ]
  },
  {
   "cell_type": "code",
   "execution_count": 25,
   "metadata": {},
   "outputs": [
    {
     "name": "stdout",
     "output_type": "stream",
     "text": [
      "Epoch 1/5\n",
      "36/36 [==============================] - 2s 10ms/step - loss: 2.3078 - accuracy: 0.1018 - val_loss: 2.3125 - val_accuracy: 0.0833\n",
      "Epoch 2/5\n",
      "36/36 [==============================] - 0s 3ms/step - loss: 2.3086 - accuracy: 0.0949 - val_loss: 2.3100 - val_accuracy: 0.0868\n",
      "Epoch 3/5\n",
      "36/36 [==============================] - 0s 2ms/step - loss: 2.3086 - accuracy: 0.0914 - val_loss: 2.3119 - val_accuracy: 0.0833\n",
      "Epoch 4/5\n",
      "36/36 [==============================] - 0s 2ms/step - loss: 2.3077 - accuracy: 0.0923 - val_loss: 2.3065 - val_accuracy: 0.0833\n",
      "Epoch 5/5\n",
      "36/36 [==============================] - 0s 2ms/step - loss: 2.3082 - accuracy: 0.0923 - val_loss: 2.3114 - val_accuracy: 0.0938\n"
     ]
    }
   ],
   "source": [
    "# Compile the model with momentum enabled\n",
    "model.compile(\n",
    "    loss='categorical_crossentropy',\n",
    "    optimizer=SGD(learning_rate=0.1, momentum=0.9),  # Default learning rate, add momentum\n",
    "    metrics=['accuracy']\n",
    ")\n",
    "\n",
    "# Train the model\n",
    "history_sgd_momentum = model.fit(X_train, y_train, epochs=5, batch_size=32, validation_split=0.2)"
   ]
  },
  {
   "cell_type": "code",
   "execution_count": 26,
   "metadata": {},
   "outputs": [
    {
     "data": {
      "image/png": "[encoded data removed]",
      "text/plain": [
       "<Figure size 1200x600 with 1 Axes>"
      ]
     },
     "metadata": {},
     "output_type": "display_data"
    },
    {
     "data": {
      "image/png": "[encoded data removed]",
      "text/plain": [
       "<Figure size 1200x600 with 1 Axes>"
      ]
     },
     "metadata": {},
     "output_type": "display_data"
    }
   ],
   "source": [
    "import matplotlib.pyplot as plt\n",
    "\n",
    "# Plot accuracy\n",
    "plt.figure(figsize=(12, 6))\n",
    "plt.plot(history_sgd_low_lr.history['accuracy'], label='Low LR (0.01)')\n",
    "plt.plot(history_sgd_low_lr_100.history['accuracy'], label='Low LR (0.001)')\n",
    "plt.plot(history_sgd_high_lr.history['accuracy'], label='High LR (1.0)')\n",
    "plt.plot(history_sgd_momentum.history['accuracy'], label='Momentum (0.9)')\n",
    "plt.xlabel('Epochs')\n",
    "plt.ylabel('Accuracy')\n",
    "plt.legend()\n",
    "plt.title('Impact of Optimizer Parameters on Accuracy')\n",
    "plt.show()\n",
    "\n",
    "# Plot loss\n",
    "plt.figure(figsize=(12, 6))\n",
    "plt.plot(history_sgd_low_lr.history['loss'], label='Low LR (0.01)')\n",
    "plt.plot(history_sgd_low_lr_100.history['loss'], label='Low LR (0.001)')\n",
    "plt.plot(history_sgd_high_lr.history['loss'], label='High LR (1.0)')\n",
    "plt.plot(history_sgd_momentum.history['loss'], label='Momentum (0.9)')\n",
    "plt.xlabel('Epochs')\n",
    "plt.ylabel('Loss')\n",
    "plt.legend()\n",
    "plt.title('Impact of Optimizer Parameters on Loss')\n",
    "plt.show()"
   ]
  },
  {
   "cell_type": "code",
   "execution_count": 27,
   "metadata": {},
   "outputs": [
    {
     "name": "stdout",
     "output_type": "stream",
     "text": [
      "Epoch 1/5\n",
      "36/36 [==============================] - 1s 9ms/step - loss: 2.3030 - accuracy: 0.0983 - val_loss: 2.3116 - val_accuracy: 0.0938\n",
      "Epoch 2/5\n",
      "36/36 [==============================] - 0s 3ms/step - loss: 2.3026 - accuracy: 0.0931 - val_loss: 2.3115 - val_accuracy: 0.0833\n",
      "Epoch 3/5\n",
      "36/36 [==============================] - 0s 2ms/step - loss: 2.3023 - accuracy: 0.1062 - val_loss: 2.3113 - val_accuracy: 0.0833\n",
      "Epoch 4/5\n",
      "36/36 [==============================] - 0s 2ms/step - loss: 2.3021 - accuracy: 0.1062 - val_loss: 2.3111 - val_accuracy: 0.0833\n",
      "Epoch 5/5\n",
      "36/36 [==============================] - 0s 2ms/step - loss: 2.3019 - accuracy: 0.1062 - val_loss: 2.3110 - val_accuracy: 0.0833\n"
     ]
    }
   ],
   "source": [
    "from tensorflow.keras.optimizers import Adam\n",
    "\n",
    "# Modify the model by replacing SGD with Adam optimizer\n",
    "model.compile(\n",
    "    loss='categorical_crossentropy',\n",
    "    optimizer=Adam(),  # Use the Adam optimizer with default parameters\n",
    "    metrics=['accuracy']\n",
    ")\n",
    "\n",
    "# Train the model with Adam optimizer\n",
    "history_adam = model.fit(X_train, y_train, epochs=5, batch_size=32, validation_split=0.2)"
   ]
  },
  {
   "cell_type": "code",
   "execution_count": 32,
   "metadata": {},
   "outputs": [
    {
     "name": "stdout",
     "output_type": "stream",
     "text": [
      "(1437, 64)\n"
     ]
    }
   ],
   "source": [
    "print(X_train.shape)"
   ]
  },
  {
   "cell_type": "code",
   "execution_count": 33,
   "metadata": {},
   "outputs": [
    {
     "name": "stdout",
     "output_type": "stream",
     "text": [
      "Epoch 1/5\n",
      "36/36 [==============================] - 2s 10ms/step - loss: 3.3121 - accuracy: 0.3299 - val_loss: 1.1465 - val_accuracy: 0.6042\n",
      "Epoch 2/5\n",
      "36/36 [==============================] - 0s 3ms/step - loss: 0.7340 - accuracy: 0.7676 - val_loss: 0.5040 - val_accuracy: 0.8507\n",
      "Epoch 3/5\n",
      "36/36 [==============================] - 0s 2ms/step - loss: 0.3686 - accuracy: 0.8930 - val_loss: 0.3868 - val_accuracy: 0.8715\n",
      "Epoch 4/5\n",
      "36/36 [==============================] - 0s 3ms/step - loss: 0.2363 - accuracy: 0.9373 - val_loss: 0.2718 - val_accuracy: 0.9132\n",
      "Epoch 5/5\n",
      "36/36 [==============================] - 0s 3ms/step - loss: 0.1709 - accuracy: 0.9617 - val_loss: 0.2562 - val_accuracy: 0.9167\n"
     ]
    }
   ],
   "source": [
    "from tensorflow.keras.models import Sequential\n",
    "from tensorflow.keras.layers import Dense\n",
    "from tensorflow.keras.optimizers import Adam\n",
    "\n",
    "# Create a new model without the Flatten layer, since data is already flattened\n",
    "model = Sequential([\n",
    "    Dense(64, activation='relu', input_shape=(64,)),  # Directly using the flattened input shape\n",
    "    Dense(64, activation='relu'),\n",
    "    Dense(10, activation='softmax')  # Output layer for 10 classes (assuming you're working with 10-class classification)\n",
    "])\n",
    "\n",
    "# Compile the model with the Adam optimizer\n",
    "model.compile(\n",
    "    loss='categorical_crossentropy',\n",
    "    optimizer=Adam(),\n",
    "    metrics=['accuracy']\n",
    ")\n",
    "\n",
    "# Train the model with the new architecture\n",
    "history_adam_with_extra_layer = model.fit(X_train, y_train, epochs=5, batch_size=32, validation_split=0.2)"
   ]
  },
  {
   "cell_type": "code",
   "execution_count": 34,
   "metadata": {},
   "outputs": [
    {
     "name": "stdout",
     "output_type": "stream",
     "text": [
      "12/12 [==============================] - 1s 3ms/step - loss: 0.2047 - accuracy: 0.9389\n",
      "Loss:     0.20\n",
      "Accuracy: 93.89%\n"
     ]
    }
   ],
   "source": [
    "# Evaluate the model on the test data\n",
    "loss, accuracy = model.evaluate(X_test, y_test)\n",
    "\n",
    "# Print the results\n",
    "print(f'Loss:     {loss:.2f}')\n",
    "print(f'Accuracy: {accuracy*100:.2f}%')"
   ]
  },
  {
   "cell_type": "code",
   "execution_count": 35,
   "metadata": {},
   "outputs": [
    {
     "name": "stdout",
     "output_type": "stream",
     "text": [
      "12/12 [==============================] - 0s 818us/step\n",
      "Misclassified sample 5: Predicted 2, Actual 1\n",
      "Misclassified sample 18: Predicted 3, Actual 8\n",
      "Misclassified sample 32: Predicted 2, Actual 1\n",
      "Misclassified sample 79: Predicted 3, Actual 9\n",
      "Misclassified sample 92: Predicted 6, Actual 8\n"
     ]
    }
   ],
   "source": [
    "# Get predictions for the test data\n",
    "predictions = model.predict(X_test)\n",
    "\n",
    "# Get the class with the highest probability\n",
    "predicted_classes = np.argmax(predictions, axis=1)\n",
    "true_classes = np.argmax(y_test, axis=1)\n",
    "\n",
    "# Indices of misclassified samples\n",
    "misclassified_indices = np.where(predicted_classes != true_classes)[0]\n",
    "\n",
    "# Display the first few misclassified samples\n",
    "for i in range(min(5, len(misclassified_indices))):\n",
    "    print(f'Misclassified sample {misclassified_indices[i]}: Predicted {predicted_classes[misclassified_indices[i]]}, Actual {true_classes[misclassified_indices[i]]}')"
   ]
  },
  {
   "cell_type": "code",
   "execution_count": 36,
   "metadata": {},
   "outputs": [
    {
     "data": {
      "image/png": "[encoded data removed]",
      "text/plain": [
       "<Figure size 600x600 with 9 Axes>"
      ]
     },
     "metadata": {},
     "output_type": "display_data"
    }
   ],
   "source": [
    "# Visualize a few misclassified samples\n",
    "import matplotlib.pyplot as plt\n",
    "\n",
    "fig, axes = plt.subplots(3, 3, figsize=(6, 6))\n",
    "\n",
    "for i, ax in enumerate(axes.flat):\n",
    "    ax.imshow(X_test[misclassified_indices[i]].reshape(8, 8), cmap=plt.cm.gray_r, interpolation='nearest')\n",
    "    ax.set_title(f\"Pred: {predicted_classes[misclassified_indices[i]]}, Real: {true_classes[misclassified_indices[i]]}\")\n",
    "    ax.set_xticks([])\n",
    "    ax.set_yticks([])\n",
    "\n",
    "plt.show()"
   ]
  },
  {
   "cell_type": "code",
   "execution_count": 37,
   "metadata": {},
   "outputs": [
    {
     "data": {
      "text/plain": [
       "<tf.Tensor: shape=(5, 10), dtype=float32, numpy=\n",
       "array([[1.7523544e-03, 1.0156310e-04, 3.7151563e-05, 1.7929148e-04,\n",
       "        3.5659943e-04, 7.6793698e-03, 9.8512906e-01, 1.0222538e-05,\n",
       "        3.6720191e-03, 1.0823669e-03],\n",
       "       [3.3450809e-03, 1.2384091e-05, 3.0464613e-05, 4.5037854e-02,\n",
       "        2.7818204e-04, 3.3519644e-01, 2.8424683e-06, 4.4880810e-05,\n",
       "        1.9084670e-03, 6.1414337e-01],\n",
       "       [8.7008711e-06, 2.3223211e-04, 1.3722292e-04, 9.9163127e-01,\n",
       "        9.4006828e-06, 1.6093361e-03, 9.9324585e-05, 2.2804123e-05,\n",
       "        5.5655795e-03, 6.8410253e-04],\n",
       "       [5.1629078e-03, 3.9329677e-04, 1.4582732e-03, 7.4794679e-03,\n",
       "        2.6778223e-03, 3.5109144e-02, 5.9115340e-05, 8.7580884e-01,\n",
       "        1.7109565e-03, 7.0140302e-02],\n",
       "       [5.3397543e-04, 1.2442686e-02, 5.0354004e-01, 4.7497012e-02,\n",
       "        1.5088238e-04, 1.4423831e-01, 2.0087965e-02, 4.2482624e-03,\n",
       "        2.6491705e-01, 2.3437070e-03]], dtype=float32)>"
      ]
     },
     "execution_count": 37,
     "metadata": {},
     "output_type": "execute_result"
    }
   ],
   "source": [
    "predictions_tf = model(X_test)\n",
    "predictions_tf[:5]"
   ]
  },
  {
   "cell_type": "code",
   "execution_count": 38,
   "metadata": {},
   "outputs": [
    {
     "data": {
      "text/plain": [
       "(tensorflow.python.framework.ops.EagerTensor, TensorShape([360, 10]))"
      ]
     },
     "execution_count": 38,
     "metadata": {},
     "output_type": "execute_result"
    }
   ],
   "source": [
    "type(predictions_tf), predictions_tf.shape"
   ]
  },
  {
   "cell_type": "code",
   "execution_count": 39,
   "metadata": {},
   "outputs": [
    {
     "data": {
      "text/plain": [
       "<tf.Tensor: shape=(5,), dtype=float32, numpy=\n",
       "array([0.99999994, 1.        , 0.99999994, 1.0000001 , 0.9999999 ],\n",
       "      dtype=float32)>"
      ]
     },
     "execution_count": 39,
     "metadata": {},
     "output_type": "execute_result"
    }
   ],
   "source": [
    "import tensorflow as tf\n",
    "\n",
    "tf.reduce_sum(predictions_tf, axis=1)[:5]"
   ]
  },
  {
   "cell_type": "code",
   "execution_count": 40,
   "metadata": {},
   "outputs": [
    {
     "data": {
      "text/plain": [
       "<tf.Tensor: shape=(5,), dtype=int64, numpy=array([6, 9, 3, 7, 2], dtype=int64)>"
      ]
     },
     "execution_count": 40,
     "metadata": {},
     "output_type": "execute_result"
    }
   ],
   "source": [
    "predicted_labels_tf = tf.argmax(predictions_tf, axis=1)\n",
    "predicted_labels_tf[:5]"
   ]
  },
  {
   "cell_type": "code",
   "execution_count": 41,
   "metadata": {},
   "outputs": [
    {
     "name": "stdout",
     "output_type": "stream",
     "text": [
      "tf.Tensor([0.99999994 1.         0.99999994 1.0000001  0.9999999 ], shape=(5,), dtype=float32)\n",
      "tf.Tensor([6 9 3 7 2], shape=(5,), dtype=int64)\n"
     ]
    }
   ],
   "source": [
    "import tensorflow as tf\n",
    "\n",
    "# Assuming predictions_tf is the tensor with raw model predictions (e.g., of shape (360, 10))\n",
    "\n",
    "# Sum the probabilities for each sample\n",
    "print(tf.reduce_sum(predictions_tf, axis=1)[:5])  # This prints the sum of probabilities for the first 5 samples\n",
    "\n",
    "# Get the predicted labels (the class with the highest probability)\n",
    "predicted_labels_tf = tf.argmax(predictions_tf, axis=1)\n",
    "print(predicted_labels_tf[:5])  # This prints the predicted labels for the first 5 samples"
   ]
  },
  {
   "cell_type": "code",
   "execution_count": null,
   "metadata": {},
   "outputs": [],
   "source": []
  },
  {
   "cell_type": "code",
   "execution_count": 42,
   "metadata": {},
   "outputs": [
    {
     "data": {
      "image/png": "[encoded data removed]",
      "text/plain": [
       "<Figure size 600x600 with 9 Axes>"
      ]
     },
     "metadata": {},
     "output_type": "display_data"
    }
   ],
   "source": [
    "# Get the values corresponding to the predicted labels for each sample\n",
    "predicted_values_tf = tf.reduce_max(predictions_tf, axis=1)\n",
    "\n",
    "# Get the indices of the samples with the highest predicted values\n",
    "most_confident_indices_tf = tf.argsort(predicted_values_tf, direction='DESCENDING').numpy()[:9]\n",
    "\n",
    "# Get the 9 most confident samples\n",
    "most_confident_samples_tf = X_test[most_confident_indices_tf]\n",
    "\n",
    "# Get the true labels for the 9 most confident samples\n",
    "most_confident_labels_tf = np.argmax(y_test[most_confident_indices_tf], axis=1)\n",
    "\n",
    "# Plot the 9 most confident samples\n",
    "fig, axes = plt.subplots(3, 3, figsize=(6, 6))\n",
    "\n",
    "for i, ax in enumerate(axes.flat):\n",
    "    ax.imshow(most_confident_samples_tf[i].reshape(8, 8), cmap=plt.cm.gray_r, interpolation='nearest')\n",
    "    ax.set_title(f\"{most_confident_labels_tf[i]}\")\n",
    "\n",
    "    # Removing axis labels\n",
    "    ax.set_xticks([])\n",
    "    ax.set_yticks([])\n",
    "    \n",
    "plt.show()"
   ]
  },
  {
   "cell_type": "code",
   "execution_count": 43,
   "metadata": {},
   "outputs": [],
   "source": [
    "from tensorflow.keras import initializers\n",
    "from tensorflow.keras import optimizers\n",
    "\n",
    "input_dim = 64\n",
    "hidden_dim = 64\n",
    "output_dim = 10\n",
    "\n",
    "normal_init = initializers.TruncatedNormal(stddev=0.01, seed=42)\n",
    "\n",
    "model = Sequential()\n",
    "model.add(Dense(hidden_dim, input_dim=input_dim, activation=\"tanh\",\n",
    "                kernel_initializer=normal_init))\n",
    "model.add(Dense(hidden_dim, activation=\"tanh\",\n",
    "                kernel_initializer=normal_init))\n",
    "model.add(Dense(output_dim, activation=\"softmax\",\n",
    "                kernel_initializer=normal_init))\n",
    "\n",
    "model.compile(optimizer=optimizers.SGD(learning_rate=0.1),\n",
    "              loss='categorical_crossentropy', metrics=['accuracy'])"
   ]
  },
  {
   "cell_type": "code",
   "execution_count": 44,
   "metadata": {},
   "outputs": [
    {
     "data": {
      "text/plain": [
       "[array([[ 0.00015817, -0.01590087,  0.00103594, ...,  0.00962818,\n",
       "          0.00624957,  0.00994726],\n",
       "        [ 0.0081879 ,  0.00756818, -0.00668142, ...,  0.01084459,\n",
       "         -0.00317478, -0.00549116],\n",
       "        [-0.00086618, -0.00287623,  0.00391693, ...,  0.00064558,\n",
       "         -0.00420471,  0.00174566],\n",
       "        ...,\n",
       "        [-0.0029006 , -0.0091218 ,  0.00804327, ..., -0.01407086,\n",
       "          0.00952832, -0.01348555],\n",
       "        [ 0.00375078,  0.00967842,  0.00098119, ..., -0.00413454,\n",
       "          0.01695471,  0.00025196],\n",
       "        [ 0.00459809,  0.01223094, -0.00213172, ...,  0.01246831,\n",
       "         -0.00714749, -0.00868595]], dtype=float32),\n",
       " array([0., 0., 0., 0., 0., 0., 0., 0., 0., 0., 0., 0., 0., 0., 0., 0., 0.,\n",
       "        0., 0., 0., 0., 0., 0., 0., 0., 0., 0., 0., 0., 0., 0., 0., 0., 0.,\n",
       "        0., 0., 0., 0., 0., 0., 0., 0., 0., 0., 0., 0., 0., 0., 0., 0., 0.,\n",
       "        0., 0., 0., 0., 0., 0., 0., 0., 0., 0., 0., 0., 0.], dtype=float32)]"
      ]
     },
     "execution_count": 44,
     "metadata": {},
     "output_type": "execute_result"
    }
   ],
   "source": [
    "model.layers[0].get_weights()"
   ]
  },
  {
   "cell_type": "code",
   "execution_count": 45,
   "metadata": {},
   "outputs": [
    {
     "name": "stdout",
     "output_type": "stream",
     "text": [
      "[[ 0.00015817 -0.01590087  0.00103594 ...  0.00962818  0.00624957\n",
      "   0.00994726]\n",
      " [ 0.0081879   0.00756818 -0.00668142 ...  0.01084459 -0.00317478\n",
      "  -0.00549116]\n",
      " [-0.00086618 -0.00287623  0.00391693 ...  0.00064558 -0.00420471\n",
      "   0.00174566]\n",
      " ...\n",
      " [-0.0029006  -0.0091218   0.00804327 ... -0.01407086  0.00952832\n",
      "  -0.01348555]\n",
      " [ 0.00375078  0.00967842  0.00098119 ... -0.00413454  0.01695471\n",
      "   0.00025196]\n",
      " [ 0.00459809  0.01223094 -0.00213172 ...  0.01246831 -0.00714749\n",
      "  -0.00868595]]\n"
     ]
    }
   ],
   "source": [
    "weights_first_layer = model.layers[0].get_weights()[0]\n",
    "print(weights_first_layer)"
   ]
  },
  {
   "cell_type": "code",
   "execution_count": 46,
   "metadata": {},
   "outputs": [
    {
     "name": "stdout",
     "output_type": "stream",
     "text": [
      "[0. 0. 0. 0. 0. 0. 0. 0. 0. 0. 0. 0. 0. 0. 0. 0. 0. 0. 0. 0. 0. 0. 0. 0.\n",
      " 0. 0. 0. 0. 0. 0. 0. 0. 0. 0. 0. 0. 0. 0. 0. 0. 0. 0. 0. 0. 0. 0. 0. 0.\n",
      " 0. 0. 0. 0. 0. 0. 0. 0. 0. 0. 0. 0. 0. 0. 0. 0.]\n"
     ]
    }
   ],
   "source": [
    "biases_first_layer = model.layers[0].get_weights()[1]\n",
    "print(biases_first_layer)"
   ]
  },
  {
   "cell_type": "code",
   "execution_count": 47,
   "metadata": {},
   "outputs": [
    {
     "data": {
      "text/plain": [
       "array([[ 0.00015817, -0.01590087,  0.00103594, ...,  0.00962818,\n",
       "         0.00624957,  0.00994726],\n",
       "       [ 0.0081879 ,  0.00756818, -0.00668142, ...,  0.01084459,\n",
       "        -0.00317478, -0.00549116],\n",
       "       [-0.00086618, -0.00287623,  0.00391693, ...,  0.00064558,\n",
       "        -0.00420471,  0.00174566],\n",
       "       ...,\n",
       "       [-0.0029006 , -0.0091218 ,  0.00804327, ..., -0.01407086,\n",
       "         0.00952832, -0.01348555],\n",
       "       [ 0.00375078,  0.00967842,  0.00098119, ..., -0.00413454,\n",
       "         0.01695471,  0.00025196],\n",
       "       [ 0.00459809,  0.01223094, -0.00213172, ...,  0.01246831,\n",
       "        -0.00714749, -0.00868595]], dtype=float32)"
      ]
     },
     "execution_count": 47,
     "metadata": {},
     "output_type": "execute_result"
    }
   ],
   "source": [
    "w = model.layers[0].weights[0].numpy()\n",
    "w"
   ]
  },
  {
   "cell_type": "code",
   "execution_count": 48,
   "metadata": {},
   "outputs": [
    {
     "data": {
      "text/plain": [
       "0.008835949"
      ]
     },
     "execution_count": 48,
     "metadata": {},
     "output_type": "execute_result"
    }
   ],
   "source": [
    "w.std()"
   ]
  },
  {
   "cell_type": "code",
   "execution_count": 49,
   "metadata": {},
   "outputs": [
    {
     "data": {
      "text/plain": [
       "array([0., 0., 0., 0., 0., 0., 0., 0., 0., 0., 0., 0., 0., 0., 0., 0., 0.,\n",
       "       0., 0., 0., 0., 0., 0., 0., 0., 0., 0., 0., 0., 0., 0., 0., 0., 0.,\n",
       "       0., 0., 0., 0., 0., 0., 0., 0., 0., 0., 0., 0., 0., 0., 0., 0., 0.,\n",
       "       0., 0., 0., 0., 0., 0., 0., 0., 0., 0., 0., 0., 0.], dtype=float32)"
      ]
     },
     "execution_count": 49,
     "metadata": {},
     "output_type": "execute_result"
    }
   ],
   "source": [
    "b = model.layers[0].weights[1].numpy()\n",
    "b"
   ]
  },
  {
   "cell_type": "code",
   "execution_count": 50,
   "metadata": {},
   "outputs": [
    {
     "name": "stdout",
     "output_type": "stream",
     "text": [
      "Epoch 1/15\n",
      "45/45 [==============================] - 1s 2ms/step - loss: 2.2862 - accuracy: 0.2018\n",
      "Epoch 2/15\n",
      "45/45 [==============================] - 0s 1ms/step - loss: 1.7458 - accuracy: 0.4669\n",
      "Epoch 3/15\n",
      "45/45 [==============================] - 0s 1ms/step - loss: 0.9671 - accuracy: 0.7307\n",
      "Epoch 4/15\n",
      "45/45 [==============================] - 0s 1ms/step - loss: 0.5254 - accuracy: 0.8664\n",
      "Epoch 5/15\n",
      "45/45 [==============================] - 0s 1ms/step - loss: 0.3154 - accuracy: 0.9228\n",
      "Epoch 6/15\n",
      "45/45 [==============================] - 0s 1ms/step - loss: 0.2483 - accuracy: 0.9318\n",
      "Epoch 7/15\n",
      "45/45 [==============================] - 0s 1ms/step - loss: 0.1772 - accuracy: 0.9603\n",
      "Epoch 8/15\n",
      "45/45 [==============================] - 0s 1ms/step - loss: 0.1182 - accuracy: 0.9749\n",
      "Epoch 9/15\n",
      "45/45 [==============================] - 0s 1ms/step - loss: 0.0911 - accuracy: 0.9791\n",
      "Epoch 10/15\n",
      "45/45 [==============================] - 0s 1ms/step - loss: 0.1299 - accuracy: 0.9582\n",
      "Epoch 11/15\n",
      "45/45 [==============================] - 0s 1ms/step - loss: 0.0858 - accuracy: 0.9770\n",
      "Epoch 12/15\n",
      "45/45 [==============================] - 0s 1ms/step - loss: 0.0647 - accuracy: 0.9868\n",
      "Epoch 13/15\n",
      "45/45 [==============================] - 0s 1ms/step - loss: 0.0733 - accuracy: 0.9791\n",
      "Epoch 14/15\n",
      "45/45 [==============================] - 0s 1ms/step - loss: 0.0668 - accuracy: 0.9847\n",
      "Epoch 15/15\n",
      "45/45 [==============================] - 0s 2ms/step - loss: 0.0893 - accuracy: 0.9729\n"
     ]
    },
    {
     "data": {
      "image/png": "[encoded data removed]",
      "text/plain": [
       "<Figure size 1200x400 with 1 Axes>"
      ]
     },
     "metadata": {},
     "output_type": "display_data"
    }
   ],
   "source": [
    "history = model.fit(X_train, y_train, epochs=15, batch_size=32)\n",
    "\n",
    "plt.figure(figsize=(12, 4))\n",
    "plt.plot(history.history['loss'], label=\"Truncated Normal init\")\n",
    "plt.legend();"
   ]
  },
  {
   "cell_type": "code",
   "execution_count": 51,
   "metadata": {},
   "outputs": [
    {
     "data": {
      "text/plain": [
       "[<tf.Variable 'dense_18/kernel:0' shape=(64, 64) dtype=float32, numpy=\n",
       " array([[ 1.58170762e-04, -1.59008689e-02,  1.03594456e-03, ...,\n",
       "          9.62818228e-03,  6.24957308e-03,  9.94726177e-03],\n",
       "        [ 1.59115419e-02, -1.34775145e-02, -5.86649170e-03, ...,\n",
       "         -7.37886457e-03, -1.45362206e-02, -2.79518813e-02],\n",
       "        [ 5.74397296e-02, -1.06383435e-01, -6.26463294e-02, ...,\n",
       "         -3.75427157e-02, -1.23105779e-01,  7.73691460e-02],\n",
       "        ...,\n",
       "        [ 1.69710554e-02,  2.79109669e-03,  1.31578058e-01, ...,\n",
       "         -1.17905036e-01,  6.91410601e-02, -2.08201513e-01],\n",
       "        [ 1.65423732e-02, -3.55791375e-02,  1.05575696e-01, ...,\n",
       "         -8.26074108e-02,  1.63562521e-02, -1.26662359e-01],\n",
       "        [ 2.63380222e-02, -1.28209805e-02,  6.29089177e-02, ...,\n",
       "          5.85274585e-02,  3.18868496e-02, -4.97047231e-02]], dtype=float32)>,\n",
       " <tf.Variable 'dense_18/bias:0' shape=(64,) dtype=float32, numpy=\n",
       " array([-2.44236493e-04,  2.23580911e-03,  1.93992630e-03, -8.54097772e-03,\n",
       "        -3.78132099e-03,  1.02412865e-04, -1.18944293e-03,  1.63772522e-04,\n",
       "        -3.11159674e-04, -2.83774640e-03,  7.08175008e-04,  6.10198686e-03,\n",
       "         8.15426465e-05,  1.09368819e-03,  2.34347023e-03, -2.78843055e-03,\n",
       "         2.91006989e-04,  9.68591776e-04, -1.57993345e-03, -2.29590526e-03,\n",
       "         1.82734977e-03, -6.32602430e-04,  7.01367971e-04, -1.56635360e-05,\n",
       "         3.65874963e-03,  3.88106448e-04, -4.97807423e-03,  1.09088747e-03,\n",
       "        -3.92173912e-04,  1.26912014e-03,  3.67634045e-03,  1.62160269e-03,\n",
       "         9.08680377e-04, -1.32103672e-03,  9.82560217e-04, -8.78986553e-04,\n",
       "        -1.09153497e-03,  1.13570178e-03, -2.17267219e-03,  8.01870017e-04,\n",
       "         2.47276830e-03, -9.15695680e-04, -1.91874360e-03,  9.20556136e-04,\n",
       "         1.88479433e-03,  2.21060691e-04,  4.14447743e-04, -4.27279854e-03,\n",
       "         2.05889530e-03,  4.16667433e-04,  5.07518742e-03, -6.06355770e-03,\n",
       "        -6.80110138e-03, -3.13492201e-04,  1.04890286e-03,  2.20741192e-03,\n",
       "         5.87666919e-03,  1.56661461e-03,  3.68214608e-03, -1.83702668e-03,\n",
       "        -4.84773284e-03, -1.80669327e-03, -5.44320233e-03,  3.34716192e-03],\n",
       "       dtype=float32)>]"
      ]
     },
     "execution_count": 51,
     "metadata": {},
     "output_type": "execute_result"
    }
   ],
   "source": [
    "model.layers[0].weights"
   ]
  },
  {
   "cell_type": "code",
   "execution_count": 6,
   "metadata": {},
   "outputs": [
    {
     "name": "stdout",
     "output_type": "stream",
     "text": [
      "Epoch 1/5\n",
      "36/36 [==============================] - 2s 15ms/step - loss: 2.1068 - accuracy: 0.4134 - val_loss: 1.8195 - val_accuracy: 0.6771\n",
      "Epoch 2/5\n",
      "36/36 [==============================] - 0s 3ms/step - loss: 1.4471 - accuracy: 0.7554 - val_loss: 1.0929 - val_accuracy: 0.8056\n",
      "Epoch 3/5\n",
      "36/36 [==============================] - 0s 2ms/step - loss: 0.8591 - accuracy: 0.8512 - val_loss: 0.6976 - val_accuracy: 0.8368\n",
      "Epoch 4/5\n",
      "36/36 [==============================] - 0s 3ms/step - loss: 0.5723 - accuracy: 0.8973 - val_loss: 0.5172 - val_accuracy: 0.8646\n",
      "Epoch 5/5\n",
      "36/36 [==============================] - 0s 3ms/step - loss: 0.4248 - accuracy: 0.9164 - val_loss: 0.4090 - val_accuracy: 0.8924\n",
      "12/12 [==============================] - 0s 3ms/step - loss: 0.3717 - accuracy: 0.9056\n",
      "Test Loss: 0.3717, Test Accuracy: 0.9056\n"
     ]
    }
   ],
   "source": [
    "import numpy as np\n",
    "import tensorflow as tf\n",
    "from tensorflow.keras.models import Sequential\n",
    "from tensorflow.keras.layers import Dense\n",
    "from tensorflow.keras import initializers, optimizers\n",
    "from sklearn.model_selection import train_test_split\n",
    "from sklearn.datasets import load_digits\n",
    "from tensorflow.keras.utils import to_categorical\n",
    "import matplotlib.pyplot as plt\n",
    "\n",
    "# 1. Load the dataset\n",
    "digits = load_digits()\n",
    "X, y = digits.data, digits.target\n",
    "\n",
    "# 2. Split the data into training and testing sets\n",
    "X_train, X_test, y_train, y_test = train_test_split(X, y, test_size=0.2, random_state=42)\n",
    "\n",
    "# 3. Normalize the data\n",
    "X_train = X_train / 16.0  # The maximum value in the digits dataset is 16\n",
    "X_test = X_test / 16.0\n",
    "\n",
    "# 4. Convert labels to one-hot encoding\n",
    "y_train = to_categorical(y_train, num_classes=10)\n",
    "y_test = to_categorical(y_test, num_classes=10)\n",
    "\n",
    "# 5. Define the model with a new weight initializer\n",
    "larger_stddev_init = initializers.TruncatedNormal(stddev=0.1, seed=42)\n",
    "\n",
    "model_with_larger_stddev = Sequential([\n",
    "    Dense(64, input_dim=64, activation=\"tanh\", kernel_initializer=larger_stddev_init),\n",
    "    Dense(64, activation=\"tanh\", kernel_initializer=larger_stddev_init),\n",
    "    Dense(10, activation=\"softmax\", kernel_initializer=larger_stddev_init)\n",
    "])\n",
    "\n",
    "model_with_larger_stddev.compile(\n",
    "    optimizer=optimizers.SGD(learning_rate=0.1),\n",
    "    loss='categorical_crossentropy',\n",
    "    metrics=['accuracy']\n",
    ")\n",
    "\n",
    "# 6. Train the model\n",
    "history_larger_stddev = model_with_larger_stddev.fit(\n",
    "    X_train, y_train,\n",
    "    epochs=5,\n",
    "    batch_size=32,\n",
    "    validation_split=0.2\n",
    ")\n",
    "\n",
    "# 7. Evaluate the model\n",
    "loss, accuracy = model_with_larger_stddev.evaluate(X_test, y_test)\n",
    "print(f\"Test Loss: {loss:.4f}, Test Accuracy: {accuracy:.4f}\")"
   ]
  },
  {
   "cell_type": "code",
   "execution_count": null,
   "metadata": {},
   "outputs": [],
   "source": []
  },
  {
   "cell_type": "markdown",
   "metadata": {},
   "source": [
    "Q1: Try the following initialization schemes and see whether the SGD algorithm can successfully train the network or not:\n",
    "\n",
    "stddev=1e-3 (very small):\n",
    "The network struggles to train effectively. Gradients are too small, leading to slow convergence or getting stuck.\n",
    "\n",
    "stddev=1 or 10 (larger scale):\n",
    "Training becomes unstable. Loss fluctuates, and the model has difficulty converging because large initial weights cause exploding gradients.\n",
    "\n",
    "Constant initialization (all weights = 0):\n",
    "The network fails to train. This happens because all neurons in each layer learn the same features (symmetry problem), making the model ineffective.\n",
    "\n",
    "\n",
    "Explanation:\n",
    "Initialization directly affects how gradients propagate through the network. Poor initialization (too small, too large, or constant) disrupts the learning process, either by slowing it down or making it unstable.\n",
    "\n",
    "\n",
    "---\n",
    "\n",
    "Q2: Are more advanced solvers such as SGD with momentum or Adam able to deal better with such bad initializations?\n",
    "\n",
    "Yes, advanced solvers like SGD with momentum or Adam handle bad initializations better than plain SGD.\n",
    "\n",
    "SGD with momentum helps stabilize updates by using velocity, reducing fluctuations.\n",
    "\n",
    "Adam adapts learning rates for each parameter, making it more robust to bad initializations.\n",
    "\n",
    "\n",
    "However, even these solvers can struggle with extreme cases, like constant initialization, because fundamental issues like symmetry remain unsolved."
   ]
  }
 ],
 "metadata": {
  "kernelspec": {
   "display_name": "dsi_participant",
   "language": "python",
   "name": "python3"
  },
  "language_info": {
   "codemirror_mode": {
    "name": "ipython",
    "version": 3
   },
   "file_extension": ".py",
   "mimetype": "text/x-python",
   "name": "python",
   "nbconvert_exporter": "python",
   "pygments_lexer": "ipython3",
   "version": "3.9.15"
  }
 },
 "nbformat": 4,
 "nbformat_minor": 2
}
